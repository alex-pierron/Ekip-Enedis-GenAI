{
 "cells": [
  {
   "cell_type": "code",
   "execution_count": null,
   "metadata": {},
   "outputs": [],
   "source": [
    "pip install PyPDF2"
   ]
  },
  {
   "cell_type": "code",
   "execution_count": 1,
   "metadata": {},
   "outputs": [
    {
     "data": {
      "text/plain": [
       "'DR Nord-Pas-de-Calais'"
      ]
     },
     "execution_count": 1,
     "metadata": {},
     "output_type": "execute_result"
    }
   ],
   "source": [
    "from PyPDF2 import PdfReader\n",
    "\n",
    "reader = PdfReader('pdf/Revue-Médias - DR Nord-Pas-de-Calais du 02012025.pdf')\n",
    "page = reader.pages[5]\n",
    "extracted_text = page.extract_text()\n",
    "extracted_text "
   ]
  },
  {
   "cell_type": "code",
   "execution_count": 2,
   "metadata": {},
   "outputs": [
    {
     "name": "stdout",
     "output_type": "stream",
     "text": [
      "Nombre d'articles extraits : 30\n"
     ]
    }
   ],
   "source": [
    "from PyPDF2 import PdfReader\n",
    "\n",
    "def extract_articles_from_pdf(pdf_path, dossier=False):\n",
    "    # Initialisation du lecteur de PDF\n",
    "    reader = PdfReader(pdf_path)\n",
    "    all_text = ''\n",
    "    \n",
    "    # Liste pour stocker les pages qui seront incluses dans les articles\n",
    "    pages_text = []\n",
    "    \n",
    "    # Si dossier=True, ignorer les pages avant la première page contenant \"DR Nord-Pas-de-Calais\" ou vide\n",
    "    if dossier:\n",
    "        found_first_article = False\n",
    "        for page_num in range(len(reader.pages)):\n",
    "            page = reader.pages[page_num]\n",
    "            page_text = page.extract_text()\n",
    "            if found_first_article or (page_text and 'DR Nord-Pas-de-Calais' not in page_text and page_text.strip()):\n",
    "                # Ajouter seulement les pages pertinentes après la première page d'article\n",
    "                pages_text.append(page_text)\n",
    "                found_first_article = True\n",
    "    else:\n",
    "        # Si dossier=False, on ajoute simplement toutes les pages\n",
    "        for page_num in range(len(reader.pages)):\n",
    "            page = reader.pages[page_num]\n",
    "            pages_text.append(page.extract_text())\n",
    "    \n",
    "    # Joindre toutes les pages extraites en un seul texte\n",
    "    all_text = \"\\n\".join(pages_text)\n",
    "    \n",
    "    # Expression régulière pour identifier les articles en fonction de la balise \"Parution\"\n",
    "    # Nous recherchons \"Parution\" pour délimiter les fins d'article\n",
    "    articles = []\n",
    "    current_article = []\n",
    "    \n",
    "    # Séparer le texte sur chaque occurrence de la balise \"Parution\"\n",
    "    for page_num, page_text in enumerate(pages_text):\n",
    "        # Si la page contient la balise \"Parution\"\n",
    "        if \"Parution\" in page_text:\n",
    "            # Ajouter la page courante contenant la balise \"Parution\"\n",
    "            current_article.append(page_text)\n",
    "            \n",
    "            # Ajouter l'article complet à la liste des articles\n",
    "            articles.append(\"\\n\".join(current_article))\n",
    "            \n",
    "            # Réinitialiser pour commencer un nouvel article\n",
    "            current_article = []\n",
    "        else:\n",
    "            # Ajouter la page à l'article en cours\n",
    "            current_article.append(page_text)\n",
    "    \n",
    "    # Si un article est encore en cours après la dernière page, l'ajouter aussi\n",
    "    if current_article:\n",
    "        articles.append(\"\\n\".join(current_article))\n",
    "    \n",
    "    # Nettoyer les articles en enlevant les espaces superflus\n",
    "    articles = [article.strip() for article in articles if article.strip()]\n",
    "    \n",
    "    return articles\n",
    "\n",
    "# Exemple d'utilisation\n",
    "pdf_path = 'pdf/Revue-Médias - DR Nord-Pas-de-Calais du 02012025.pdf'\n",
    "\n",
    "# Si dossier=True, les pages avant la première page contenant 'DR Nord-Pas-de-Calais' sont exclues\n",
    "articles = extract_articles_from_pdf(pdf_path, dossier=True)\n",
    "\n",
    "# Affichage du nombre d'articles extraits\n",
    "print(f'Nombre d\\'articles extraits : {len(articles)}')"
   ]
  },
  {
   "cell_type": "code",
   "execution_count": 3,
   "metadata": {},
   "outputs": [
    {
     "name": "stdout",
     "output_type": "stream",
     "text": [
      "Aire-sur-la-Lys : Planet’Aire est-il vraiment éco-responsable ?\n",
      " jeudi 26 décembre 2024 - 10:00 Europe/Paris\n",
      "316 mots - 1 min\n",
      "A LA UNE\n",
      ": NORDLITTORAL.FR\n",
      "Si les fournisseurs européens sont majoritaires, certains matériels\n",
      "viennent de Chine et des États-Unis.Alors que le nouveau complexe d’activités intérieures Planet’Aire\n",
      "affiche fièrement son éco-responsabilité, qu’en est-il réellement ? \n",
      "Le  discours  est  alléchant.  Dès  l’entrée  dans  Planet’Aire  sont\n",
      "affichés les points qui font que le complexe «  préserve la planète  ».\n",
      "À commencer par les 2 400 m² de panneaux photovoltaïques, tous\n",
      "fabriqués en France par la société Voltec Solar. Mais le complexe\n",
      "sera-t-il totalement autonome ?\n",
      "Consultez l’actualité en vidéo\n",
      "« Ce sera le cas l’après-midi lorsqu’il y aura du soleil  » explique\n",
      "Thibault Catteau, grâce à une production de 280 000 kWh lorsque\n",
      "les  conditions  seront  optimales.  «  Mais  on  n’a  pas  de  date.  On\n",
      "attend qu’Enedis raccorde. »\n",
      "À lire aussi VIDÉO. Découvrez Planet’Aire avant son ouverture, le\n",
      "nouveau complexe d’activités à Aire-sur-la-Lys\n",
      "Il faut également rappeler que le complexe  s’est construit à partir\n",
      "d’un ancien bâtiment déjà présent, que des bornes de recharge\n",
      "seront installées pour les véhicules électriques et que le parking\n",
      "présente des surfaces perméables. Les cloisons pare-flammes qui\n",
      "n’étaient pas adaptées n’ont pas été jetées. «  Elles serviront de\n",
      "paravent lorsque la terrasse sera prête.  »\n",
      "Un détour par l’Afrique du Sud\n",
      "Mais  tout  n’est  pas  « vert »  et  Planet’Aire  n’échappe  pas  aux\n",
      "principaux exportateurs que sont les États-Unis et la Chine, bien\n",
      "que les Européens soient nombreux. «  On a repoussé l’ouverture1\n",
      "↑ 55\n",
      "parce que les matériaux venus de Chine étaient bloqués dans le\n",
      "canal de Suez et ont dû passer au-dessous de l’Afrique du Sud  »,\n",
      "explique Patrick Catteau, confirmant un bilan carbone plus lourd\n",
      "que prévu. «  On achète ailleurs ce qu’on ne trouve pas en France  »\n",
      "justifie son fils.\n",
      "D’autant plus que la taille du complexe et l’agrandissement prévu\n",
      "du parking encouragent à ne venir qu’en voiture. Mais sur ce sujet,\n",
      "Planet’Aire n’est pas le seul responsable.\n",
      "À lire aussi Blaringhem : à quelques kilomètres de Planet’Aire, le\n",
      "complexe  sportif  Hercule  &  Hops  déjà  ouvert  satisfait-il  les\n",
      "premiers visiteurs ?\n",
      "par  Natheo Dillenseger1\n",
      "5069893f80c00b06d0ee35464907d139045AbaC911daQd8b2add\n",
      "6c5\n",
      " Parution : Continue\n",
      "↑ 56\n"
     ]
    }
   ],
   "source": [
    "# Affichage du premier article (à titre d'exemple)\n",
    "print(articles[-1])"
   ]
  }
 ],
 "metadata": {
  "kernelspec": {
   "display_name": "ekip_env_enedis",
   "language": "python",
   "name": "python3"
  },
  "language_info": {
   "codemirror_mode": {
    "name": "ipython",
    "version": 3
   },
   "file_extension": ".py",
   "mimetype": "text/x-python",
   "name": "python",
   "nbconvert_exporter": "python",
   "pygments_lexer": "ipython3",
   "version": "3.11.11"
  }
 },
 "nbformat": 4,
 "nbformat_minor": 2
}
